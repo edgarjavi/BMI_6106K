{
 "cells": [
  {
   "cell_type": "markdown",
   "metadata": {},
   "source": [
    "## longitudinal analysis\n",
    "\n",
    "What is longitudinal data?\n",
    "\n",
    "- Repeated responses over time on independent units (subjects)\n",
    "\n",
    "A longitudinal study then refers to situations where the outcome and in some cases treatments are collected at multiple follow-up times.\n",
    "\n",
    "These kind of studies typically result in two types of outcomes\n",
    "\n",
    "- Times of key events (e.g. recovery, death)\n",
    "- Repeated values of markers of the status of the participant\n",
    "\n",
    "Benefits of longitudinal studies:\n",
    "1. Incident events are recorded\n",
    "\n",
    "    - Measure the new occurrence of disease.\n",
    "    - Timing of disease onset can be correlated with recent changes in patient exposure and/or with chronic exposure.\n",
    "\n",
    "2. Prospective ascertainment of exposure\n",
    "    - Participants can have their exposure status recorded at multiple follow-up visits. This can alleviate recall bias.\n",
    "    - Temporal order of exposures and outcomes is observed\n",
    "\n",
    "\n",
    "3. Measurement of individual change in outcomes\n",
    "    - A key strength of a longitudinal study is the ability to measure change in outcomes and/or exposure at the individual level.\n",
    "    - Longitudinal studies provide the opportunity to observe individual patterns of change.\n",
    "4. Separation of time effects: Cohort, Period, Age\n",
    "    - When studying change over time there are many time scales to consider.\n",
    "        - cohort scale is the time of birth such as 1945 or 1963.\n",
    "        - period is the current time such as 2004.\n",
    "        - age is (period - cohort).\n",
    "    - A longitudinal study with times t1, t2, . . . tn can characterize multiple time scales such as age and cohort effects using covariates derived from the calendar time and birth year: age of subject $i$ at time $t_j$ is $age_{ij}$ = ($t_j − birth_i$); and cohort is $cohort_{ij} = birth_i$\n",
    "\n",
    "Example\n",
    "\n"
   ]
  },
  {
   "cell_type": "code",
   "execution_count": null,
   "metadata": {
    "scrolled": true
   },
   "outputs": [],
   "source": [
    "library(nlme)\n",
    "?Orthodont\n",
    "head(Orthodont,10)"
   ]
  },
  {
   "cell_type": "markdown",
   "metadata": {},
   "source": [
    "Another example:\n",
    "\n",
    "HIV patients were followed over time and monthly measures of multiple parameters were taken particularly CD4, CD8 counts, and viral load in order to characterize immune status and disease burden."
   ]
  },
  {
   "cell_type": "code",
   "execution_count": null,
   "metadata": {},
   "outputs": [],
   "source": [
    "MACS = read.table(file = \"MACS-cd4-vload0-999.txt\", sep = \"\",stringsAsFactors = F)\n",
    "\n",
    "colnames(MACS) = c(\"ID\",\"MONTHS\",\"AGE\",\"CD4_COUNT\",\n",
    "                   \"CD8_COUNT\",\"VLOAD0\",\"AIDSCASE\",\"VTIME\",\n",
    "                   \"SCTIME\",\"ATIME\",\"DTIME\",\"IDEATH\")\n"
   ]
  },
  {
   "cell_type": "markdown",
   "metadata": {},
   "source": [
    "Variables: (columns of the data file)\n",
    "----------\n",
    "  ID = subject ID \n",
    "  MONTHS = months since seroconversion (detection of infection)\n",
    "  AGE = age of subject\n",
    "  CD4-COUNT = # of CD4 positive cells (helper cells) per mm^3\n",
    "  CD8-COUNT = # of CD8 positive cells (supressor cells) per mm^3\n",
    "  VLOAD0 = viral load at baseline (copies per ml)\n",
    "  AIDSCASE = 1 if no AIDS observed; 2 if AIDS observed; 3 if died prior to AIDS\n",
    "  VTIME = calendar time of study visit in months since January 1984\n",
    "  SCTIME = calendar time of seroconversion (infection) in months since 1/1984\n",
    "  ATIME = calendar time of AIDS diagnosis in months since 1/1984\n",
    "  DTIME = calendar time of death in months since 1/1984, or follow-up time\n",
    "  IDEATH = indicator of death at DTIME (1=death, 0=censored)"
   ]
  },
  {
   "cell_type": "code",
   "execution_count": null,
   "metadata": {},
   "outputs": [],
   "source": [
    "##How many IDS\n",
    "\n",
    "length(unique(MACS$ID))"
   ]
  },
  {
   "cell_type": "code",
   "execution_count": null,
   "metadata": {},
   "outputs": [],
   "source": [
    "MACS$ID = as.factor(MACS$ID)\n",
    "#MACS$MONTHS = as.factor(MACS$MONTHS)\n",
    "MACS$AIDSCASE = as.factor(MACS$AIDSCASE)\n",
    "MACS$IDEATH = as.factor(MACS$IDEATH)"
   ]
  },
  {
   "cell_type": "markdown",
   "metadata": {},
   "source": [
    "## Problems of longitudinal studies\n",
    "\n",
    "1. Censoring information: similar to survival analysis, longitudinal analysis have the risk of bias due to incomplete follow-up or drop-out of participants. \n",
    "\n",
    "2. Analysis of correlated data: While dealing with non-independent data, a new source of error emerges which is the intra-subject correlation of response measurements.\n",
    "\n",
    "3. Time-covarying covariates: One of the strenghs of longitudinal analysis (the opportunity to associate changes in exposure with changes in the outcome of interest, the direction of causality can be complicated due to the lack of dependency of the data. The measurements of the time point t+1 are dependent of the values from time point t.\n",
    "\n"
   ]
  },
  {
   "cell_type": "code",
   "execution_count": null,
   "metadata": {},
   "outputs": [],
   "source": [
    "##how many missing values (-999)??\n",
    "apply(MACS,MARGIN = 2,function(x) length(x[x==-999]))\n",
    "\n",
    "table(MACS$IDEATH)"
   ]
  },
  {
   "cell_type": "code",
   "execution_count": null,
   "metadata": {},
   "outputs": [],
   "source": [
    "library(mosaic)\n",
    "favstats(MACS$AGE)\n",
    "favstats(MACS$MONTHS)"
   ]
  },
  {
   "cell_type": "markdown",
   "metadata": {},
   "source": [
    "## What are the main questions?\n",
    "\n",
    "Is there an effect of age in CD4 counts?\n",
    "\n",
    "Is there an effect of age in time of death?\n",
    "\n",
    "Is there an effect of the interaction between age and time since seroconversion in the CD4 counts? \n",
    "\n",
    "are these interactions a good predictor of time of death?\n",
    "\n",
    "One scientific question is whether baseline characteristics such as viral load measured immediately after seroconversion are associated with a poor patient prognosis as indicated by a greater rate of decline in CD4 cell counts."
   ]
  },
  {
   "cell_type": "markdown",
   "metadata": {},
   "source": [
    "### Let's explore the data first\n",
    "\n",
    "#### Remember\n",
    "\n",
    "$Y_{ij}$ referes to the outcome measured on Subject i at time $t_{ij}$ --> t can be any interval and in many cases these intervals are not regulat."
   ]
  },
  {
   "cell_type": "code",
   "execution_count": null,
   "metadata": {},
   "outputs": [],
   "source": [
    "library(lattice)\n",
    "sam_macs = as.character(sample(unique(MACS$ID),10))\n",
    "\n",
    "sam_macs = c(\"1505\",\"2196\",\"1259\",\"1350\",\"1120\",\n",
    "             \"2074\",\"1857\",\"1752\",\"1214\",\"2031\",\n",
    "             \"1490\",\"2187\",\"1397\",\"1831\",\"1755\",\n",
    "             \"1049\",\"2109\",\"1235\",\"1022\",\"1825\",\n",
    "             \"1829\",\"2114\",\"2116\")\n",
    "sam2 = MACS[MACS$ID %in% sam_macs,]\n",
    "xyplot(CD4_COUNT ~ MONTHS | ID, sam2,type = c(\"g\",\"p\",\"r\",\"l\"),\n",
    "       index = function(x,y) coef(lm(y ~ x))[1],\n",
    "       aspect = \"xy\")"
   ]
  },
  {
   "cell_type": "markdown",
   "metadata": {},
   "source": [
    "The plot above doesn't seem to indicate a relationship between the time since seroconversion and the count of CD4 cells. In some cases there is a marked reduction but in many other cases there seems no association."
   ]
  },
  {
   "cell_type": "code",
   "execution_count": null,
   "metadata": {},
   "outputs": [],
   "source": [
    "plot(CD4_COUNT ~ MONTHS, data = MACS, pch = \".\", ylim = c(0,max(CD4_COUNT)))\n",
    "for (i in 1:length(sam_macs)) {\n",
    "  lines(MACS$MONTHS[MACS$ID == sam_macs[i]],\n",
    "        MACS$CD4_COUNT[MACS$ID == sam_macs[i]], lwd = 1.5)\n",
    "  \n",
    "}"
   ]
  },
  {
   "cell_type": "markdown",
   "metadata": {},
   "source": [
    "we can also partition the variance based on the residuals from  a simple linear model"
   ]
  },
  {
   "cell_type": "code",
   "execution_count": null,
   "metadata": {},
   "outputs": [],
   "source": [
    "cd4.lo = loess(CD4_COUNT ~ MONTHS, span = 0.25,degree = 1,data = MACS)\n",
    "#Loess is an acronym for Local Regression, it is a non-parametric approach that fits \n",
    "#multiple regressions in local neighborhood\n",
    "\n",
    "MACS$res <- resid(cd4.lo)\n",
    "#Compute the residuals and obtain the quantiles#\n",
    "aux <- sort (tapply(MACS$res, MACS$ID, median))\n",
    "aux <- aux[c(1, round ((1:4) * length (aux) / 4))]\n",
    "# Identify the individuals #\n",
    "aux <- as.numeric (names (aux))\n",
    "leg <- c(\"0%\", \"25%\", \"50%\", \"75%\", \"100%\")\n",
    "\n",
    "#Draw the Scatter-Plot of Residuals#\n",
    "plot (res ~ MONTHS, data = MACS, col = \"gray50\",\n",
    "      xlab = \"Years since seroconversion\",\n",
    "      ylab = \"Residual Sqrt Root of CD4+ cell number\")\n",
    "# Draw the individual profiles and indicate by quantiles #\n",
    "with (MACS,\n",
    "      for (i in 1:5) {subset <- ID == aux[i]\n",
    "      lines (MONTHS[subset], res[subset],lwd = 2, lty = i)\n",
    "      text (MONTHS[subset][1],res[subset][1],labels = leg[i])\n",
    "      })"
   ]
  },
  {
   "cell_type": "markdown",
   "metadata": {},
   "source": [
    "#### Similarly, this plot is too noisy to begin to understand the longitudinal aspect of the data."
   ]
  },
  {
   "cell_type": "code",
   "execution_count": null,
   "metadata": {},
   "outputs": [],
   "source": [
    "#plot(CD4_COUNT ~ MONTHS, data = MACS, pch = \".\", ylim = c(0,max(CD4_COUNT)))\n",
    "with(MACS,\n",
    "     scatter.smooth(MONTHS,CD4_COUNT , pch=\".\",ylim = c(0,max(CD4_COUNT)),\n",
    "                    xlab = \"Months since seroconversion\",\n",
    "                    ylab=\"CD4+ cell number\",\n",
    "                    lpars =list(col = \"red\", lwd = 3)))\n"
   ]
  },
  {
   "cell_type": "markdown",
   "metadata": {},
   "source": [
    "This plot indicates that there might be a reduction in the count of CD4 cells as a function of time since seroconversion, however, this might be a biased plot as remember that we are not taking into account the repeated nature of the data."
   ]
  },
  {
   "cell_type": "code",
   "execution_count": null,
   "metadata": {},
   "outputs": [],
   "source": [
    "with(MACS,\n",
    "     scatter.smooth(CD4_COUNT,IDEATH , pch=\".\",\n",
    "                    lpars =list(col = \"red\", lwd = 3)))"
   ]
  },
  {
   "cell_type": "code",
   "execution_count": null,
   "metadata": {},
   "outputs": [],
   "source": [
    "##Any relationship bewteen age and CD4 count?\n",
    "plot(aggregate(MACS$CD4_COUNT~MACS$AGE, FUN=mean), type = c(\"b\"))"
   ]
  },
  {
   "cell_type": "code",
   "execution_count": null,
   "metadata": {},
   "outputs": [],
   "source": [
    "# Plot the individual trajectories conditional on Age\n",
    "# equal.count divides the Age into 4 overlapping intervals,\n",
    "#each interval having equal number of observations\n",
    "xyplot (CD4_COUNT ~ MONTHS | equal.count (AGE, 4), data = MACS,type = \"l\",\n",
    "        group = ID,xlab = \"Years since seroconversion\",\n",
    "        col.line = \"gray20\",ylab = \"CD4+ cell number\",\n",
    "        strip = strip.custom (var.name = \"Age\"))"
   ]
  },
  {
   "cell_type": "code",
   "execution_count": null,
   "metadata": {},
   "outputs": [],
   "source": [
    "MACS$years = MACS$MONTHS/12\n",
    "# Round Time to complete years #\n",
    "MACS$roundyr <- round(MACS$years)\n",
    "# split CD4 counts in three low - med - high\n",
    "MACS$cat = cut(MACS$CD4_COUNT,3)"
   ]
  },
  {
   "cell_type": "code",
   "execution_count": null,
   "metadata": {},
   "outputs": [],
   "source": [
    "library(dplyr)\n",
    "MACS %>% \n",
    "  #group by the varialbe cl\n",
    "  group_by(cat,roundyr) %>%\n",
    "  #sum every column\n",
    "  summarise(mean(CD4_COUNT), sd(CD4_COUNT))"
   ]
  },
  {
   "cell_type": "code",
   "execution_count": null,
   "metadata": {},
   "outputs": [],
   "source": [
    "#Too many missing values at low concentrations of CD4, opposite behavior between medium and high concentrations of CD4."
   ]
  },
  {
   "cell_type": "markdown",
   "metadata": {},
   "source": [
    "## Lets explore the correlations structure of time in our example"
   ]
  },
  {
   "cell_type": "code",
   "execution_count": null,
   "metadata": {},
   "outputs": [],
   "source": [
    "# Fit the model #\n",
    "CD4.lm <- lm (CD4_COUNT ~ years, data = MACS)\n",
    "# Obtain the residuals #\n",
    "MACS$lmres <- resid(CD4.lm)\n",
    "# Reshape the data to wide format #\n",
    "cd4w <- reshape(MACS[,c(\"ID\", \"lmres\", \"roundyr\")],\n",
    "                direction = \"wide\",\n",
    "                v.names = \"lmres\", timevar = \"roundyr\",\n",
    "                idvar = \"ID\")\n",
    "\n",
    "pairs(cd4w[,c(2:6)])"
   ]
  },
  {
   "cell_type": "code",
   "execution_count": null,
   "metadata": {},
   "outputs": [],
   "source": [
    "panel.hist <- function(x, ...) {\n",
    "  usr <- par(\"usr\"); on.exit(par(usr))\n",
    "  par(usr = c(usr[1:2], 0, 1.5) )\n",
    "  h <- hist(x, plot = FALSE)\n",
    "  breaks <- h$breaks;\n",
    "  nB <- length(breaks)\n",
    "  y <- h$counts;\n",
    "  y <- y/max(y)\n",
    "  rect(breaks[-nB], 0, breaks[-1], y, col=\"cyan\", ...)}\n",
    "\n",
    "panel.cor <- function(x, y, digits=2, prefix=\"\", cex.cor) {\n",
    "  usr <- par(\"usr\"); on.exit(par(usr))\n",
    "  par(usr = c(0, 1, 0, 1))\n",
    "  r <- abs (cor(x, y, use = \"pairwise.complete.obs\"))\n",
    "  txt <- format(c(r, 0.123456789), digits=digits)[1]\n",
    "  txt <- paste(prefix, txt, sep=\"\")\n",
    "  if(missing(cex.cor)) cex <- 0.8/strwidth(txt)\n",
    "  text(0.5, 0.5, txt, cex = cex * r)\n",
    "}"
   ]
  },
  {
   "cell_type": "code",
   "execution_count": null,
   "metadata": {},
   "outputs": [],
   "source": [
    "pairs (cd4w[,c(2:6)], upper.panel = panel.cor,\n",
    "       diag.panel = panel.hist)"
   ]
  },
  {
   "cell_type": "markdown",
   "metadata": {},
   "source": [
    "## We Can see that the correlation decreases with time. In more formal terms..\n",
    "\n",
    "Correlation at time $t_i$ and $t_j$ depends on $|t_i - t_j|$ Weak stationary"
   ]
  },
  {
   "cell_type": "code",
   "execution_count": null,
   "metadata": {},
   "outputs": [],
   "source": [
    "library(lme4)"
   ]
  },
  {
   "cell_type": "markdown",
   "metadata": {},
   "source": [
    "## Random variables:\n",
    "\n",
    "In all our models we have used all predictors as fixed variables, that is, a variable that is measured without error. for example, the variable weight is a fixed variable as there is no error in the measurement due to intrinsic variation (unless it is human error). \n",
    "\n",
    "We are going to introduce a new type of variable that is greatly used in modeling and that is the Random Variable. This variable is measured with measurement error. This variable is said to represent a generalized overview of the population, however, there are intrinsic aspects that cannot be measured. e.j. within/between subject variation, time variation.\n",
    "\n",
    "When we measured both random and fixed effects this type of analysis are called \"mixed models\""
   ]
  },
  {
   "cell_type": "markdown",
   "metadata": {},
   "source": [
    "## Going back to our example we can evaluate different models with and without the random effects of subject and time.\n",
    "\n",
    "### Let's start with the simplest model"
   ]
  },
  {
   "cell_type": "code",
   "execution_count": null,
   "metadata": {},
   "outputs": [],
   "source": [
    "m1 = lm(CD4_COUNT ~ roundyr, data = MACS)\n",
    "summary(m1)"
   ]
  },
  {
   "cell_type": "code",
   "execution_count": null,
   "metadata": {},
   "outputs": [],
   "source": [
    "m2 = lme(CD4_COUNT ~ roundyr,data = MACS, random = ~1 | ID)\n",
    "summary(m2)"
   ]
  },
  {
   "cell_type": "code",
   "execution_count": null,
   "metadata": {},
   "outputs": [],
   "source": [
    "m3 = lme(CD4_COUNT ~ roundyr,data = MACS, random = ~(MONTHS)| ID)\n",
    "summary(m3)"
   ]
  },
  {
   "cell_type": "code",
   "execution_count": null,
   "metadata": {},
   "outputs": [],
   "source": [
    "anova(m2,m3)"
   ]
  },
  {
   "cell_type": "markdown",
   "metadata": {},
   "source": [
    "### Maximum likelihood estimation:\n",
    "\n",
    "In order to maximize the likelihood of finding an association using the parameters from the model we used different types of ML: full ML and restricted ML or residual maximum likelihood (REML).\n",
    "\n",
    "REML applies the principle of maximum likelihood to the least-squares residuals. The idea is to first remove the effect of the fixed variables (residuals are uncorrelated with all the fixed variable in the model). \n",
    "\n",
    "Using the full likelihood function ML, an additional variance estimator is maximized (-2 ln L), this deviance is a measure of lack of fit betweene model and data. typically both models are compared using the AIC or BIC to determine which has a better fit to the data."
   ]
  },
  {
   "cell_type": "code",
   "execution_count": null,
   "metadata": {},
   "outputs": [],
   "source": [
    "m4 = lme(CD4_COUNT ~ roundyr,data = MACS, random = ~(MONTHS)| ID, method = \"ML\")\n",
    "summary(m4)"
   ]
  },
  {
   "cell_type": "markdown",
   "metadata": {},
   "source": [
    "## Correlation/covariance adjustment\n",
    "\n",
    "As we saw previously, our data has a particular type of between time correlation, where the correlation decreases as we increase in time. In our model this need to be controlled for. We can use covariances matrices the same way in order to delucidate the instrinsic structure of the data.\n",
    "\n",
    "- Random intercept model (Exchangable correlation model): any two outcomes have the same correlation. Doesn’t depend on the specific times, nor on the distance between the measurements.\n",
    "\n",
    "- Compound Symetry: The simplest covariance structure that includes within-subject correlated errors is compound symmetry (CS). Here we see correlated errors between time points within subjects, and note that these correlations are presumed to be the same for each set of times, regardless of how distant in time the repeated measures are made.\n",
    "\n",
    "![title](Comp_Sym.png)\n",
    "\n",
    "- Autoregressive: The first-order autoregressive model, AR(1), homogeneous variances and correlations that decline over time.\n",
    "\n",
    "![title](AR1.png)\n",
    "\n",
    "Autoregressive models are appropriate for equally-spaced measurement."
   ]
  },
  {
   "cell_type": "code",
   "execution_count": null,
   "metadata": {},
   "outputs": [],
   "source": [
    "library (nlme)"
   ]
  },
  {
   "cell_type": "code",
   "execution_count": null,
   "metadata": {},
   "outputs": [],
   "source": [
    "interaction.plot (MACS$MONTHS, factor(MACS$roundyr),MACS$CD4_COUNT , lty=c(1:3),lwd=2,ylab=\"mean of Y\",\n",
    "                  xlab=\"time\", trace.label=\"years\")"
   ]
  },
  {
   "cell_type": "markdown",
   "metadata": {},
   "source": [
    "## Correlation structures from the package nlme in R\n",
    "\n",
    "[http://stat.ethz.ch/R-manual/R-patched/library/nlme/html/corClasses.html](http://stat.ethz.ch/R-manual/R-patched/library/nlme/html/corClasses.html)\n",
    "\n",
    "Let's evaluate the 4 most common structures:\n",
    "\n",
    "- Compound symmetry\n",
    "- Completely unstructured with possibly unequal variances\n",
    "- AR(1) with equal variances\n",
    "- AR(1) with unequal variances"
   ]
  },
  {
   "cell_type": "code",
   "execution_count": null,
   "metadata": {},
   "outputs": [],
   "source": [
    "fit.compsym <- gls(CD4_COUNT ~ factor(roundyr), data=MACS, corr=corCompSymm(, form= ~ 1 | ID))\n",
    " \n",
    "\n",
    "fit.nostruct <- gls(CD4_COUNT ~ factor(roundyr), data=MACS, corr=corSymm(, form= ~ 1 | ID), \n",
    "                    weights = varIdent(form = ~ 1 | roundyr))\n",
    " \n",
    "\n",
    "fit.ar1 <- gls(CD4_COUNT ~ factor(roundyr), data=MACS, corr=corAR1(, form= ~ 1 | ID))\n",
    " \n",
    "\n",
    "fit.ar1het <- gls(CD4_COUNT ~ factor(roundyr), data=MACS, corr=corAR1(, form= ~ 1 | ID), \n",
    "                  weights=varIdent(form = ~ 1 | roundyr))\n",
    " \n",
    "\n",
    "anova(fit.compsym, fit.nostruct, fit.ar1, fit.ar1het) #compares the models\n",
    " \n",
    "\n"
   ]
  },
  {
   "cell_type": "code",
   "execution_count": null,
   "metadata": {},
   "outputs": [],
   "source": [
    "fit.ar1polytime <- gls(CD4_COUNT ~ factor(roundyr)*\n",
    "                       poly(MONTHS, degree = 3), data=MACS, \n",
    "                       corr=corAR1(, form= ~ 1 | ID))\n",
    "summary(fit.ar1polytime)\n",
    "\n"
   ]
  },
  {
   "cell_type": "code",
   "execution_count": null,
   "metadata": {},
   "outputs": [],
   "source": [
    "anova(fit.compsym)\n",
    "anova(fit.ar1)\n",
    "anova(fit.ar1polytime)\n",
    "anova(fit.ar1polytime, fit.ar1) "
   ]
  },
  {
   "cell_type": "code",
   "execution_count": null,
   "metadata": {},
   "outputs": [],
   "source": [
    "CF = read.table(file = \"NewCFkids.txt\", header = F)\n",
    "colnames(CF) = c(\"ID\",\"FEV1\",\"AGE\",\"GENDER\",\"PSEUDOA\",\"F508\",\"PANCREAT\")\n",
    "head(CF)\n",
    "CF$GENDER = as.factor(CF$GENDER)\n",
    "CF$F508 = as.factor(CF$F508)\n",
    "CF$PSEUDOA = as.factor(CF$PSEUDOA)\n",
    "CF$PANCREAT = as.factor(CF$PANCREAT)\n"
   ]
  },
  {
   "cell_type": "code",
   "execution_count": null,
   "metadata": {},
   "outputs": [],
   "source": [
    "library(lattice)\n",
    "sam_CF = as.character(sample(unique(CF$ID),10))\n",
    "\n",
    "sam2 = CF[CF$ID %in% sam_CF,]\n",
    "xyplot(FEV1 ~ AGE | ID, sam2,type = c(\"g\",\"p\",\"r\",\"l\"),\n",
    "       index = function(x,y) coef(lm(y ~ x))[1],\n",
    "       aspect = \"xy\")\n",
    "\n",
    "xyplot(FEV1 ~ GENDER + F508, sam2,type = c(\"b\"),\n",
    "       index = function(x,y) coef(lm(y ~ x))[1],\n",
    "       aspect = \"xy\")"
   ]
  },
  {
   "cell_type": "code",
   "execution_count": null,
   "metadata": {},
   "outputs": [],
   "source": [
    "require(ggplot2)\n",
    "ggplot(data = CF, aes(x=GENDER, y=FEV1))+\n",
    "  geom_boxplot(aes(fill=F508))"
   ]
  },
  {
   "cell_type": "code",
   "execution_count": null,
   "metadata": {},
   "outputs": [],
   "source": []
  }
 ],
 "metadata": {
  "kernelspec": {
   "display_name": "R",
   "language": "R",
   "name": "ir"
  },
  "language_info": {
   "codemirror_mode": "r",
   "file_extension": ".r",
   "mimetype": "text/x-r-source",
   "name": "R",
   "pygments_lexer": "r",
   "version": "3.5.0"
  }
 },
 "nbformat": 4,
 "nbformat_minor": 2
}
