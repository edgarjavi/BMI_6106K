{
 "cells": [
  {
   "cell_type": "markdown",
   "metadata": {},
   "source": [
    "## Exam 2 (Due April 1, 2019 at 11:59 pm)\n",
    "\n",
    "Please read each question carefully and apply the necessary exploratory analysis to each data set, as well as test for the assumptions relevant to each method when appropriate.\n",
    "\n",
    "Write the answers in the space provided below each question."
   ]
  },
  {
   "cell_type": "markdown",
   "metadata": {},
   "source": [
    "### $1$. Small sample sizes affects accuracy of a one tail t-test because it resembles a normal distribution.\n",
    "\n",
    "a. True\n",
    "\n",
    "b. False"
   ]
  },
  {
   "cell_type": "code",
   "execution_count": null,
   "metadata": {},
   "outputs": [],
   "source": []
  },
  {
   "cell_type": "markdown",
   "metadata": {},
   "source": [
    "### $2$. Data on 102 male and 100 female athletes were collected at the Australian Institute of Sport. The data are  in the file ais.txt.\n",
    "\n",
    "Develop a logistic regression model for gender ( y = 1 corresponds to female) or ( y = 0 corresponds to male) based on the following predictors (which is a subset of those available):\n",
    "\n",
    "- RCC, read cell count\n",
    "- WCC, white cell count\n",
    "- BMI, body mass index\n",
    " \n",
    "Remember to check for the model assumptions."
   ]
  },
  {
   "cell_type": "code",
   "execution_count": null,
   "metadata": {},
   "outputs": [],
   "source": []
  },
  {
   "cell_type": "markdown",
   "metadata": {},
   "source": [
    "### $3$. If scores are normally distributed with a mean of 42 and a standard deviation of 8, what percent of the scores is: \n",
    "\n",
    "(a) greater than 25? \n",
    "\n",
    "(b) smaller than 31? \n",
    "\n",
    "(c) between 25 and 31?"
   ]
  },
  {
   "cell_type": "markdown",
   "metadata": {},
   "source": [
    "### $4$. From the following table:\n",
    "![title](table1.png)\n",
    "\n",
    "a. Apply the appropiate tests to evaluate the null hypothesis that there is no difference in the noise values means at different vehicle sizes. \n",
    "\n",
    "b. Examine all assumptions related to the test and make sure that the data follows all of those assumptions."
   ]
  },
  {
   "cell_type": "code",
   "execution_count": null,
   "metadata": {},
   "outputs": [],
   "source": []
  },
  {
   "cell_type": "markdown",
   "metadata": {},
   "source": [
    "### $5$. The Central Limit Theorem states that as we increase our sample size sufficiently, the mean of all samples drawn from the population will be approximately equal to the mean of the population.\n",
    "\n",
    "a. True\n",
    "\n",
    "b. False"
   ]
  },
  {
   "cell_type": "code",
   "execution_count": null,
   "metadata": {},
   "outputs": [],
   "source": []
  },
  {
   "cell_type": "markdown",
   "metadata": {},
   "source": [
    "### $6$. In Hypothesis testing, the critical region is the probability that the test statistic equals the observed value or a more extreme value under the assumption that the null hypthothesis is true.\n",
    "\n",
    "a. True\n",
    "\n",
    "b. False"
   ]
  },
  {
   "cell_type": "code",
   "execution_count": null,
   "metadata": {},
   "outputs": [],
   "source": []
  },
  {
   "cell_type": "markdown",
   "metadata": {},
   "source": [
    "### $7$. The following data reports the calorie content of beef hot dogs. Here are the numbers of calories of a random sample of 20 different hot dogs:\n",
    "\n",
    "186, 181, 176, 149, 184, 190, 158, 139, 175, 148, 152, 111, 141, 153, 190, 157, 131, 149, 135, 132.\n",
    "\n",
    "Assume that these numbers are the observed values from a random sample of twenty independent normal random variables with mean μ and variance σ2, both unknown. Find the 90% confidence intervals for the mean number of calories μ."
   ]
  },
  {
   "cell_type": "markdown",
   "metadata": {},
   "source": [
    "$(\\bar{x} - t_{n-1,1_{-\\alpha/2}}s/\\sqrt{n},\\bar{x} + t_{n-1,1_{-\\alpha/2}}s/\\sqrt{n}) $"
   ]
  },
  {
   "cell_type": "markdown",
   "metadata": {},
   "source": [
    "### $8$. Which type of predictor variables can be included in a General Linear Model\n",
    "\n",
    "a. Logistic\n",
    "\n",
    "b. Normal\n",
    "\n",
    "c. Categorical\n",
    "\n",
    "d. continuous\n",
    "\n",
    "e. Mixed\n"
   ]
  },
  {
   "cell_type": "code",
   "execution_count": null,
   "metadata": {},
   "outputs": [],
   "source": []
  },
  {
   "cell_type": "markdown",
   "metadata": {},
   "source": [
    "### $9$. The file anscombe.txt contains 4 different datasets constructed by Anscombe in 1973. The x and y variables are matched to each dataset respectively (e.g. x1 corresponds to y1, etc). A. Produce a Simple linear regression for each dataset (a scatterplot might also help you to see the differences). B. Write the resulting linear function for each model. C. Generate residuals plots D. In a few sentences discuss each model and what might be the problem (if any) with that model and what can be done to fix it."
   ]
  },
  {
   "cell_type": "code",
   "execution_count": null,
   "metadata": {},
   "outputs": [],
   "source": []
  }
 ],
 "metadata": {
  "kernelspec": {
   "display_name": "R",
   "language": "R",
   "name": "ir"
  },
  "language_info": {
   "codemirror_mode": "r",
   "file_extension": ".r",
   "mimetype": "text/x-r-source",
   "name": "R",
   "pygments_lexer": "r",
   "version": "3.5.0"
  }
 },
 "nbformat": 4,
 "nbformat_minor": 2
}
