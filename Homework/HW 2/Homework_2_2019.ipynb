{
 "cells": [
  {
   "cell_type": "markdown",
   "metadata": {},
   "source": [
    "##### 1. \n",
    "let’s assume that two candidates are running in an election for Governor of California. This fictitious election pits Mr. Gubinator vs. Mr. Ventura. We would like to know who is winning the race, and therefore we conduct a poll of likely voters in California. If the poll gives the voters a choice between the two candidates, then the results can be reasonably modeled with the Binomial Distribution. States polls indicate that 62% of the population intend to vote for Mr. Gubinator (Success).\n",
    "\n",
    "\n",
    "Calculate the binomial probabilities, and CF (confidence interval):\n",
    "\n",
    "a. in a random sample of 50 we find 10 likely voters\n",
    "b. in a random sample of 50 we find at least 3 likely voters\n",
    "c. What is the average and standard deviation of the number of voters that we will find in our random sample?\n",
    "d. plot the PMF and CMF from this random sample"
   ]
  },
  {
   "cell_type": "code",
   "execution_count": null,
   "metadata": {},
   "outputs": [],
   "source": []
  },
  {
   "cell_type": "markdown",
   "metadata": {},
   "source": [
    "##### 2. X is a continuous random variable with mean μ = 40, Find and plot the density distribution (pdf) with three different standard deviations (2,6,12) (Please draw the curves on the same figure with different colors and a legend - hint: see function lines()) for:\n",
    "\n",
    "a. P(x < 40)<br><br>\n",
    "b. P(x > 21)"
   ]
  },
  {
   "cell_type": "code",
   "execution_count": null,
   "metadata": {},
   "outputs": [],
   "source": []
  },
  {
   "cell_type": "markdown",
   "metadata": {},
   "source": [
    "##### 3. There are 6 cars in a car shop out which 3 are defective. If 2 cars are picked randomly, \n",
    "\n",
    "#### <font color=blue>Find the probability that at least one is defective.</font>"
   ]
  },
  {
   "cell_type": "code",
   "execution_count": null,
   "metadata": {},
   "outputs": [],
   "source": []
  },
  {
   "cell_type": "markdown",
   "metadata": {},
   "source": [
    "##### 4. In the past, for every attempt to make a call there was a 70% probability of getting the call. \n",
    "\n",
    "#### <br><font color=blue> a. Calculate the probability of having  12 successes in 20 attempts. <br> b. Plot the distribution and describe the shape</font>"
   ]
  },
  {
   "cell_type": "code",
   "execution_count": null,
   "metadata": {},
   "outputs": [],
   "source": []
  },
  {
   "cell_type": "markdown",
   "metadata": {},
   "source": [
    "##### 5. In a company 3/4 of the females are single, \n",
    "\n",
    "### <br><br> <font color=blue> Calculate the probability that within the first 5 randomly selected females we find the first single woman? <br> <font color=blue> In average in how many people we need to select before find a single female?</font>"
   ]
  },
  {
   "cell_type": "code",
   "execution_count": null,
   "metadata": {},
   "outputs": [],
   "source": []
  },
  {
   "cell_type": "markdown",
   "metadata": {},
   "source": [
    "##### 6.\n",
    "\n",
    "Using the same format that I used for the other distributions, create a short explanation of the beta distribution: present the components of the distribution and give with one example of applications of this distribution. Remember: do not copy text from the resource you are using, try to understand and explain using your own words how and why is the beta distribution used. (This is useful as there many, many more distributions that you might encounter while working with statistics, and being able to generate a concise summary is a good skill)"
   ]
  },
  {
   "cell_type": "code",
   "execution_count": null,
   "metadata": {},
   "outputs": [],
   "source": []
  }
 ],
 "metadata": {
  "kernelspec": {
   "display_name": "R",
   "language": "R",
   "name": "ir"
  },
  "language_info": {
   "codemirror_mode": "r",
   "file_extension": ".r",
   "mimetype": "text/x-r-source",
   "name": "R",
   "pygments_lexer": "r",
   "version": "3.5.0"
  }
 },
 "nbformat": 4,
 "nbformat_minor": 2
}
