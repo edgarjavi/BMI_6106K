{
 "cells": [
  {
   "cell_type": "markdown",
   "metadata": {},
   "source": [
    "### 1. we classify 2000 email in two groups: 1000 emails as spam and 1000 emails as non-spam. 210 of the spam emails contained the phrase This isn’t spam, 99 had the word prize and 110 the word prince. Of the 99 that contained the word prize, 79 also contained the word prince. On the other hand, of the 1000 non-spam emails, only 23 had the phrase this isn’t spam, 80 the word prize and 110 the word prince. Of the 80 that contained the word prize 8 also contained the word prince.\n",
    "\n",
    "<br>\n",
    "<font color=blue>Assuming that the a priori probability of any message being spam is 0.5, what is the probability that an email is spam given it contains the phrase This isn't spam</font>\n",
    "\n",
    "Hint: Bayes Theorem"
   ]
  },
  {
   "cell_type": "code",
   "execution_count": null,
   "metadata": {},
   "outputs": [],
   "source": []
  },
  {
   "cell_type": "markdown",
   "metadata": {},
   "source": [
    "### 2. From the Cleveland Heart Disease dataset (attached to this folder - [ https://archive.ics.uci.edu/ml/datasets/Heart+Disease ] ) if we pick 25 patients randomly, find the probability that at least 3 have less than 50 percent diameter narrowing (num variable 14 in dataset state 0)\n",
    "\n",
    "<br>\n",
    "<font color=blue>Answer this question using one of the distributions seen in class without using the R functions, but by showing the calculations worked by hand. You can always confirm the answer with the R function</font>"
   ]
  },
  {
   "cell_type": "code",
   "execution_count": null,
   "metadata": {},
   "outputs": [],
   "source": []
  },
  {
   "cell_type": "markdown",
   "metadata": {},
   "source": [
    "### 3. From the Cleveland Heart Disease dataset assume that patients are examined at random what is the average number of patients before the first patient with cholesterol levels above than 300 is encountered?\n",
    "\n",
    "<br>\n",
    "<font color=blue>Answer this question using one of the distributions seen in class without using the R functions, but by showing the calculations worked by hand. You can always confirm the answer with the R function</font>"
   ]
  },
  {
   "cell_type": "code",
   "execution_count": null,
   "metadata": {},
   "outputs": [],
   "source": []
  },
  {
   "cell_type": "markdown",
   "metadata": {},
   "source": [
    "### 4. From the Cleveland Heart Disease dataset what is the probability that in the dataset will contain exactly 10 that have typical angina if the percent of typical angina in the population is 0.05%?\n",
    "\n",
    "<br>\n",
    "<font color=blue>Answer this question using one of the distributions seen in class without using the R functions, but by showing the calculations worked by hand. You can always confirm the answer with the R function</font>"
   ]
  },
  {
   "cell_type": "code",
   "execution_count": null,
   "metadata": {},
   "outputs": [],
   "source": []
  },
  {
   "cell_type": "markdown",
   "metadata": {},
   "source": [
    "### 5. From the Cleveland Heart Disease dataset create a contingency table that tabulates the relationship between chest pain and the diagnosis of heart disease?\n",
    "\n",
    "<br>\n",
    "<font color=blue>\n",
    "1. Calculate the marginal probability of a diagnosis of a vessel diameter narrowing larger than 50%<br>\n",
    "2. Calculate the joint probability of atypical angina and a vessel diameter narrowing larger than 50%<br>\n",
    "3. What is the probability of a diagnosis of 1 given that the patient has a typical angina?<br>\n",
    "4. If a patient has asymptomatic angina what is the probability of a diagnosis of 0 (diameter narrowing less than 50%), what is the probability of a diagnosis of 1? <br></font>\n",
    "\n",
    "<br>\n",
    "<font color=blue> Generate the contingency table using the R code as seen in class</font>\n"
   ]
  },
  {
   "cell_type": "code",
   "execution_count": null,
   "metadata": {},
   "outputs": [],
   "source": []
  },
  {
   "cell_type": "markdown",
   "metadata": {},
   "source": [
    "### 6. From the Cleveland Heart Disease dataset:\n",
    "\n",
    "<br>\n",
    "<font color=blue>\n",
    "1. calculate the mean and variance for the maximum heart rate achive during the exercise test, <br>\n",
    "2. then generate 10000 boostraps and calculate the average mean and variance of the bootstraps parameters? <br>\n",
    "3. Produce a histogram of the mean bootstraps.<br> \n",
    "4. and Calculate the sample bias.<br>\n",
    "5. In one of two sentences write an overall conclusion of applying the bootstrap to increase the precision to this dataset.<br></font>"
   ]
  },
  {
   "cell_type": "code",
   "execution_count": null,
   "metadata": {},
   "outputs": [],
   "source": []
  },
  {
   "cell_type": "markdown",
   "metadata": {},
   "source": [
    "### 7. From the Cleveland Heart Disease dataset: \n",
    "<br>\n",
    "<font color=blue>\n",
    "Generate a bayes network using all 14 available variables. In no more than 250 words write a summary of the main conclusions of your network. <br>\n",
    "\n",
    "Generate conditional probabilities and Relative Risk calculations of 5 dependencies that you think are fundamental given the Belief network generated. (Remember that you can generate conditional probabilities with more than one variable and at different states)<br></font>"
   ]
  },
  {
   "cell_type": "code",
   "execution_count": null,
   "metadata": {},
   "outputs": [],
   "source": []
  }
 ],
 "metadata": {
  "kernelspec": {
   "display_name": "R",
   "language": "R",
   "name": "ir"
  },
  "language_info": {
   "codemirror_mode": "r",
   "file_extension": ".r",
   "mimetype": "text/x-r-source",
   "name": "R",
   "pygments_lexer": "r",
   "version": "3.5.0"
  }
 },
 "nbformat": 4,
 "nbformat_minor": 2
}
